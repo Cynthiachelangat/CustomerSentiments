{
 "cells": [
  {
   "cell_type": "markdown",
   "metadata": {},
   "source": [
    "# **Tracking Customer Sentiment Trends Using Deep Learning**\n",
    "\n",
    "# **Business Understanding**   \n",
    "Customer sentiment plays a crucial role in shaping business strategies and decision-making. As businesses introduce new product lines, adjust pricing, or improve services, customer opinions evolve. Tracking sentiment over time provides valuable insights into how these changes impact customer satisfaction. By analyzing customer feedback, businesses can identify trends, enhance product offerings, and address potential issues before they escalate.  \n",
    "\n",
    "The ability to monitor and analyze customer sentiment is essential for businesses aiming to improve customer experience and maintain a competitive edge. Positive sentiment indicates customer satisfaction, while negative sentiment can highlight areas that require immediate attention. Understanding sentiment trends helps businesses refine their products, optimize marketing strategies, and improve service delivery.  \n",
    "\n",
    "# **Problem Statement** \n",
    "Customer sentiment is dynamic and influenced by multiple factors, including product quality, delivery efficiency, and pricing strategies. However, businesses often lack a structured approach to track sentiment changes over time. Without a robust sentiment analysis model, companies risk making uninformed decisions that could negatively impact customer retention and brand reputation. This project aims to develop a deep learning-based sentiment classification model that can accurately track customer sentiment trends and provide actionable insights.  \n",
    "\n",
    "# **Objectives**  \n",
    "The primary objectives of this project are:  \n",
    "\n",
    "- Develop a sentiment classification model using deep learning techniques, specifically leveraging TensorFlow Hub and a Deep Neural Network (DNN) classifier.  \n",
    "- Analyze sentiment trends over time to understand how business decisions affect customer satisfaction.  \n",
    "- Identify key factors influencing sentiment, such as product quality, pricing, and delivery performance.  \n",
    "- Provide actionable insights that can help businesses improve customer experience and optimize their operations.  \n",
    "\n",
    "# **Metrics of Success**  \n",
    "The success of this project will be evaluated using a combination of model performance metrics and business insights.  \n",
    "\n",
    "## **Model Performance Metrics**  \n",
    "- **F1-Score (≥ 78%)** – This will serve as the primary metric, as it balances precision and recall, ensuring that both positive and negative sentiments are correctly classified.  \n",
    "- **Recall (≥ 75%)** – Since capturing negative sentiment is critical for business decision-making, recall will be prioritized to ensure that dissatisfied customers are correctly identified.  \n",
    "- **Accuracy (≥ 85%)** – While overall correctness is important, accuracy alone may not be sufficient due to potential class imbalances.  \n",
    "\n",
    "## **Business Insights Metrics**  \n",
    "- **Sentiment Trend Analysis (Monthly/Quarterly Shifts)** – The model should successfully detect sentiment shifts over time, allowing businesses to correlate customer feedback with operational changes.  \n",
    "- **Product and Service Impact Assessment** – The model should identify products or services that generate the most positive or negative sentiment, providing insights for business improvement.  \n",
    "- **Delivery and Logistics Influence** – By analyzing sentiment variations in relation to delivery performance, the project will help businesses understand how logistics affect customer satisfaction.  \n"
   ]
  },
  {
   "cell_type": "code",
   "execution_count": 1,
   "metadata": {},
   "outputs": [
    {
     "name": "stdout",
     "output_type": "stream",
     "text": [
      "WARNING:tensorflow:From d:\\Projects\\CustomerSentiments\\server\\venv\\Lib\\site-packages\\tf_keras\\src\\losses.py:2976: The name tf.losses.sparse_softmax_cross_entropy is deprecated. Please use tf.compat.v1.losses.sparse_softmax_cross_entropy instead.\n",
      "\n"
     ]
    }
   ],
   "source": [
    "import numpy as np\n",
    "import pandas as pd\n",
    "import matplotlib.pyplot as plt\n",
    "import seaborn as sns\n",
    "import tensorflow as tf\n",
    "import tensorflow_hub as hub\n",
    "from sklearn.model_selection import train_test_split\n",
    "from sklearn.metrics import classification_report, confusion_matrix\n",
    "import zipfile\n",
    "import os\n"
   ]
  },
  {
   "cell_type": "code",
   "execution_count": 2,
   "metadata": {},
   "outputs": [
    {
     "name": "stdout",
     "output_type": "stream",
     "text": [
      "Data extracted successfully!\n"
     ]
    }
   ],
   "source": [
    "zip_path = \"data/olist_classified_public_dataset.csv.zip\"\n",
    "extract_path = \"data\"\n",
    "\n",
    "with zipfile.ZipFile(zip_path, \"r\") as zip_ref:\n",
    "    zip_ref.extractall(extract_path)\n",
    "\n",
    "print(\"Data extracted successfully!\")"
   ]
  },
  {
   "cell_type": "code",
   "execution_count": 4,
   "metadata": {},
   "outputs": [
    {
     "name": "stdout",
     "output_type": "stream",
     "text": [
      "   Unnamed: 0  id order_status  order_products_value  order_freight_value  \\\n",
      "0           0   1    delivered                 89.99                14.38   \n",
      "1           1   2    delivered                 69.00                15.23   \n",
      "2           2   3    delivered                 99.80                15.86   \n",
      "3           3   4    delivered                 87.00                12.74   \n",
      "4           4   5    delivered                 99.90                17.95   \n",
      "\n",
      "   order_items_qty  order_sellers_qty    order_purchase_timestamp  \\\n",
      "0                1                  1  2017-08-30 11:41:01.000000   \n",
      "1                1                  1  2017-09-26 09:13:36.000000   \n",
      "2                2                  4  2018-01-15 15:50:42.000000   \n",
      "3                1                  1  2018-02-04 11:16:42.000000   \n",
      "4                1                  2  2017-12-07 11:58:42.000000   \n",
      "\n",
      "             order_aproved_at order_estimated_delivery_date  ...  \\\n",
      "0  2017-08-30 11:55:08.970352    2017-09-21 00:00:00.000000  ...   \n",
      "1  2017-09-26 09:28:10.922048    2017-10-24 00:00:00.000000  ...   \n",
      "2  2018-01-17 07:29:56.419769    2018-02-05 00:00:00.000000  ...   \n",
      "3  2018-02-06 05:31:50.990164    2018-03-13 00:00:00.000000  ...   \n",
      "4  2017-12-08 02:36:49.587515    2018-01-03 00:00:00.000000  ...   \n",
      "\n",
      "  votes_delayed votes_low_quality votes_return  votes_not_as_anounced  \\\n",
      "0             0                 0            0                      0   \n",
      "1             0                 0            0                      0   \n",
      "2             0                 0            0                      0   \n",
      "3             3                 0            0                      0   \n",
      "4             0                 0            0                      0   \n",
      "\n",
      "  votes_partial_delivery  votes_other_delivery  votes_other_order  \\\n",
      "0                      0                     0                  0   \n",
      "1                      0                     0                  0   \n",
      "2                      3                     0                  0   \n",
      "3                      0                     0                  0   \n",
      "4                      3                     0                  0   \n",
      "\n",
      "   votes_satisfied  most_voted_subclass       most_voted_class  \n",
      "0                3           satisfeito  satisfeito_com_pedido  \n",
      "1                0          antes_prazo  satisfeito_com_pedido  \n",
      "2                0      entrega_parcial   problemas_de_entrega  \n",
      "3                0             atrasado   problemas_de_entrega  \n",
      "4                0      entrega_parcial   problemas_de_entrega  \n",
      "\n",
      "[5 rows x 34 columns]\n"
     ]
    }
   ],
   "source": [
    "data_path = os.path.join(extract_path, \"olist_classified_public_dataset.csv\") \n",
    "data = pd.read_csv(data_path)\n",
    "print(data.head())\n"
   ]
  },
  {
   "cell_type": "code",
   "execution_count": 5,
   "metadata": {},
   "outputs": [
    {
     "name": "stdout",
     "output_type": "stream",
     "text": [
      "Dataset contains 3584 rows and 34 columns.\n"
     ]
    }
   ],
   "source": [
    "\n",
    "print(f\"Dataset contains {data.shape[0]} rows and {data.shape[1]} columns.\")"
   ]
  },
  {
   "cell_type": "code",
   "execution_count": 6,
   "metadata": {},
   "outputs": [
    {
     "name": "stdout",
     "output_type": "stream",
     "text": [
      "Columns in dataset: Index(['Unnamed: 0', 'id', 'order_status', 'order_products_value',\n",
      "       'order_freight_value', 'order_items_qty', 'order_sellers_qty',\n",
      "       'order_purchase_timestamp', 'order_aproved_at',\n",
      "       'order_estimated_delivery_date', 'order_delivered_customer_date',\n",
      "       'customer_city', 'customer_state', 'customer_zip_code_prefix',\n",
      "       'product_category_name', 'product_name_lenght',\n",
      "       'product_description_lenght', 'product_photos_qty', 'review_score',\n",
      "       'review_comment_title', 'review_comment_message',\n",
      "       'review_creation_date', 'review_answer_timestamp',\n",
      "       'votes_before_estimate', 'votes_delayed', 'votes_low_quality',\n",
      "       'votes_return', 'votes_not_as_anounced', 'votes_partial_delivery',\n",
      "       'votes_other_delivery', 'votes_other_order', 'votes_satisfied',\n",
      "       'most_voted_subclass', 'most_voted_class'],\n",
      "      dtype='object')\n"
     ]
    }
   ],
   "source": [
    "print(\"Columns in dataset:\", data.columns)"
   ]
  },
  {
   "cell_type": "code",
   "execution_count": 8,
   "metadata": {},
   "outputs": [
    {
     "name": "stdout",
     "output_type": "stream",
     "text": [
      "order_delivered_customer_date     117\n",
      "review_comment_title             3584\n",
      "most_voted_subclass               171\n",
      "most_voted_class                  171\n",
      "dtype: int64\n"
     ]
    }
   ],
   "source": [
    "missing_values = data.isnull().sum()\n",
    "missing_values = missing_values[missing_values > 0]  \n",
    "print(missing_values)\n"
   ]
  }
 ],
 "metadata": {
  "kernelspec": {
   "display_name": "venv",
   "language": "python",
   "name": "python3"
  },
  "language_info": {
   "codemirror_mode": {
    "name": "ipython",
    "version": 3
   },
   "file_extension": ".py",
   "mimetype": "text/x-python",
   "name": "python",
   "nbconvert_exporter": "python",
   "pygments_lexer": "ipython3",
   "version": "3.11.9"
  }
 },
 "nbformat": 4,
 "nbformat_minor": 2
}
